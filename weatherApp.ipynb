{
 "cells": [
  {
   "cell_type": "code",
   "execution_count": 1,
   "metadata": {},
   "outputs": [
    {
     "name": "stdout",
     "output_type": "stream",
     "text": [
      "Requirement already satisfied: requests in c:\\users\\52669\\anaconda3\\lib\\site-packages (2.22.0)\n",
      "Requirement already satisfied: urllib3!=1.25.0,!=1.25.1,<1.26,>=1.21.1 in c:\\users\\52669\\anaconda3\\lib\\site-packages (from requests) (1.24.2)\n",
      "Requirement already satisfied: idna<2.9,>=2.5 in c:\\users\\52669\\anaconda3\\lib\\site-packages (from requests) (2.8)\n",
      "Requirement already satisfied: certifi>=2017.4.17 in c:\\users\\52669\\anaconda3\\lib\\site-packages (from requests) (2019.6.16)\n",
      "Requirement already satisfied: chardet<3.1.0,>=3.0.2 in c:\\users\\52669\\anaconda3\\lib\\site-packages (from requests) (3.0.4)\n"
     ]
    }
   ],
   "source": [
    "import sys\n",
    "!{sys.executable} -m pip install requests\n",
    "\n",
    "from tkinter import *\n",
    "import requests\n",
    "\n",
    "def show_request(weather):\n",
    "    city_name = weather[\"name\"]\n",
    "    desc = weather[\"weather\"][0][\"description\"]\n",
    "    temp = weather[\"main\"][\"temp\"]\n",
    "\n",
    "    city[\"text\"] = city_name\n",
    "    temperature[\"text\"] = temp\n",
    "    description[\"text\"] = desc\n",
    "\n",
    "\n",
    "def weather_JSON(city):\n",
    "    API_key = \"db2af66d29f154bfdf0227f255db517f\"\n",
    "    URL = \"https://api.openweathermap.org/data/2.5/weather\"\n",
    "    params = { \"APPID\" : API_key, \"q\": city, \"units\": \"metric\", \"lang\": \"es\"}\n",
    "    response = requests.get(URL, params = params)\n",
    "    weather = response.json()\n",
    "\n",
    "    show_request(weather)\n",
    "    #print(weather[\"name\"])\n",
    "    #print(weather[\"weather\"][0][\"description\"])\n",
    "    #print(weather[\"main\"][\"temp\"])\n",
    "\n",
    "# Api key:\n",
    "# db2af66d29f154bfdf0227f255db517f\n",
    "# Window Size in px\n",
    "\n",
    "window = Tk(className='Mexico Weather App')\n",
    "window.geometry(\"800x600\")\n",
    "\n",
    "text = Label(text = \"Ingresa la ciudad seguido de una , y mx\", font= (\"Courier\", 14, \"normal\") , justify = \"center\")\n",
    "text.pack(padx = 30, pady= 30)\n",
    "\n",
    "example = Label(text = \"Ejemplo: Mazatlán, mx\", font= (\"Courier\", 14, \"normal\") , justify = \"center\")\n",
    "example.pack(padx = 30, pady= 30)\n",
    "\n",
    "city_label = Entry(window, font= (\"Courier\", 20, \"normal\") , justify = \"center\")\n",
    "city_label.pack(padx = 30, pady= 30)\n",
    "\n",
    "get_weather = Button(window, text = \"Obtener Clima\", font= (\"Courier\", 24, \"normal\"), command = lambda: weather_JSON(city_label.get()))\n",
    "get_weather.pack()\n",
    "\n",
    "city = Label(font =(\"Courier\", 20, \"normal\"))\n",
    "city.pack(padx = 20, pady= 20)\n",
    "\n",
    "temperature = Label(font =(\"Courier\", 20, \"normal\"))\n",
    "temperature.pack(padx = 10, pady= 10)\n",
    "\n",
    "description = Label(font =(\"Courier\", 20, \"normal\"))\n",
    "description.pack(padx = 30, pady= 30)\n",
    "\n",
    "window.mainloop()"
   ]
  },
  {
   "cell_type": "code",
   "execution_count": null,
   "metadata": {},
   "outputs": [],
   "source": []
  }
 ],
 "metadata": {
  "kernelspec": {
   "display_name": "Python 3",
   "language": "python",
   "name": "python3"
  },
  "language_info": {
   "codemirror_mode": {
    "name": "ipython",
    "version": 3
   },
   "file_extension": ".py",
   "mimetype": "text/x-python",
   "name": "python",
   "nbconvert_exporter": "python",
   "pygments_lexer": "ipython3",
   "version": "3.7.3"
  }
 },
 "nbformat": 4,
 "nbformat_minor": 2
}
